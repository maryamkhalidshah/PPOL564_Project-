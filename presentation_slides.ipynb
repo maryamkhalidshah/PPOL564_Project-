{
 "cells": [
  {
   "cell_type": "markdown",
   "metadata": {
    "slideshow": {
     "slide_type": "slide"
    }
   },
   "source": [
    "# <center> Data Science Project: Progress"
   ]
  },
  {
   "cell_type": "markdown",
   "metadata": {
    "slideshow": {
     "slide_type": "slide"
    }
   },
   "source": [
    "### <font color='darkblue'>Problem Statement: The effect of specific democratic institutions and processes on government expenditure on education.</font>"
   ]
  },
  {
   "cell_type": "markdown",
   "metadata": {
    "slideshow": {
     "slide_type": "fragment"
    }
   },
   "source": [
    "- Time period considered: from 2008 to 2017 (10 years)\n",
    "- Education spending = Government expenditure on education, total (% of GDP)\n",
    "- Countries: UN member states\n",
    "<br>\n",
    "<br>\n",
    "- Data sources:\n",
    "    - V-DEM dataset \n",
    "    - 'World Bank' dataset (for education budgets) "
   ]
  },
  {
   "cell_type": "markdown",
   "metadata": {
    "slideshow": {
     "slide_type": "slide"
    }
   },
   "source": [
    "### <center> <font color='darkblue'>V-Dem High-Level Democracy Indices</font>\n",
    "    \n",
    "| <center> Title | <center> Explanation | \n",
    "| ----- | --- | \n",
    "| <center> Electoral Democracy Index |  To what extent is the ideal of electoral democracy in its fullest sense achieved? |\n",
    "| <center> Liberal Democracy Index | <center> To what extent is the ideal of liberal democracy achieved? |\n",
    "| <center> Participatory Democracy Index | <center> To what extent is the ideal of participatory democracy achieved? |\n",
    "| <center> Deliberative Democracy Index | <center> To what extent is the ideal of deliberative democracy achieved? |\n",
    "| <center> Egalitarian Democracy Index | <center> To what extent is the ideal of egalitarian democracy achieved? |\n",
    "<br>\n",
    "    \n",
    "*Scale: Interval, from low to high (0-1)*\n"
   ]
  },
  {
   "cell_type": "markdown",
   "metadata": {
    "slideshow": {
     "slide_type": "slide"
    }
   },
   "source": [
    "### <center> <font color='darkblue'>Lower-Level Democracy and Governance Indices</font>\n",
    "\n",
    "**Electoral Democracy Index**\n",
    "- Freedom of expression and alternative sources of information index\n",
    "- Freedom of association index \n",
    "- Share of population with suffrage \n",
    "- Clean elections index \n",
    "- Elected officials index"
   ]
  },
  {
   "cell_type": "markdown",
   "metadata": {
    "slideshow": {
     "slide_type": "fragment"
    }
   },
   "source": [
    ". . ."
   ]
  },
  {
   "cell_type": "markdown",
   "metadata": {
    "slideshow": {
     "slide_type": "slide"
    }
   },
   "source": [
    "#### Obtaining Data\n",
    "- V-DEM dataset (downloaded)\n",
    "- WB dataset (scraped from indexmundi.com)\n",
    "- UN member states (scraped from un.org)\n",
    "\n",
    "#### Creating Main Dataframe\n",
    "- Merged cleaned V-DEM dataset with cleaned WB dataset on `country` and `year`\n",
    "- 989 rows, 29 columns"
   ]
  },
  {
   "cell_type": "markdown",
   "metadata": {
    "slideshow": {
     "slide_type": "slide"
    }
   },
   "source": [
    "### <font color='darkblue'>First Machine Learning Model</font> \n",
    "- **Outcome**: Difference in Education Expenditure\n",
    "- **Predictors**: High-Level Indices\n"
   ]
  },
  {
   "cell_type": "markdown",
   "metadata": {
    "slideshow": {
     "slide_type": "fragment"
    }
   },
   "source": [
    "<center><img src=\"edu_exp_diff.PNG\" style=\"height:400px\",\"width:500px\"></center>"
   ]
  },
  {
   "cell_type": "markdown",
   "metadata": {
    "slideshow": {
     "slide_type": "slide"
    }
   },
   "source": [
    "- Best model: Random Forest. (Trees with a depth of 2, spanning across 500 trees)\n",
    "<br>\n",
    "- Poor test performance: <font color='red'>Negative R-squared</font>"
   ]
  },
  {
   "cell_type": "markdown",
   "metadata": {
    "slideshow": {
     "slide_type": "slide"
    }
   },
   "source": [
    "### <font color='darkblue'>Second Machine Learning Model</font> \n",
    "- Outcome: Increase in Education Expenditure\n",
    "- Predictors: High-Level Indices"
   ]
  },
  {
   "cell_type": "markdown",
   "metadata": {
    "slideshow": {
     "slide_type": "fragment"
    }
   },
   "source": [
    "- Best model: **KNN** - Area under ROC (61%)"
   ]
  },
  {
   "cell_type": "markdown",
   "metadata": {
    "slideshow": {
     "slide_type": "fragment"
    }
   },
   "source": [
    "<center><img src=\"vi_ML3.PNG\" style=\"height:300px\"></center>"
   ]
  },
  {
   "cell_type": "markdown",
   "metadata": {
    "slideshow": {
     "slide_type": "slide"
    }
   },
   "source": [
    "### <font color='darkblue'>Further Exploration</font>\n",
    "| <center> Equal protection index | | | <center> Equal access index | | |  Equal distribution of resources index |\n",
    "| ----- | --- | --- | --- | --- |--- |--- |\n",
    "\n",
    "Which one of these Low-Level indices is mostly determining the value of this index?"
   ]
  },
  {
   "cell_type": "markdown",
   "metadata": {
    "slideshow": {
     "slide_type": "fragment"
    }
   },
   "source": [
    "- Best model: Bagging Regressor\n",
    "- Performance: \n",
    "    - MSE: 0.004\n",
    "    - R-squared: <font color='green'>93%</font>"
   ]
  },
  {
   "cell_type": "markdown",
   "metadata": {
    "slideshow": {
     "slide_type": "slide"
    }
   },
   "source": [
    "| <center> Variable | <center> Index | <center> Explanation\n",
    "| --- | --- | --- |\n",
    "| <center> eg_eqprotec_EgDI | <center> Equal protection index | <center> How equal is access to power? |\n",
    "| <center>  eg_eqaccess_EgDI | <center> Equal access index | <center> How equal is the distribution of resources? |\n",
    "| <center> eg_eqdr_EgDI | <center> Equal distribution of resources index | <center> How equal is the protection of rights and freedoms across social groups by the state? |\n",
    "\n",
    "<br>\n",
    "<center><img src=\"vi_FE.PNG\" style=\"height:420px\"></center>\n"
   ]
  },
  {
   "cell_type": "markdown",
   "metadata": {
    "slideshow": {
     "slide_type": "slide"
    }
   },
   "source": [
    "### <font color='green'>Lessons Learned</font>\n",
    "- Interpreting variable importance (continuous data)\n",
    "- R-squared can be negative"
   ]
  },
  {
   "cell_type": "markdown",
   "metadata": {
    "slideshow": {
     "slide_type": "fragment"
    }
   },
   "source": [
    "### <font color='maroon'>Challenges</font>\n",
    "- Missing data (even for developed countries)\n",
    "- Are 10 years enough?\n",
    "- How to proceed when model performance is extremely poor?"
   ]
  }
 ],
 "metadata": {
  "celltoolbar": "Slideshow",
  "kernelspec": {
   "display_name": "Python 3",
   "language": "python",
   "name": "python3"
  },
  "language_info": {
   "codemirror_mode": {
    "name": "ipython",
    "version": 3
   },
   "file_extension": ".py",
   "mimetype": "text/x-python",
   "name": "python",
   "nbconvert_exporter": "python",
   "pygments_lexer": "ipython3",
   "version": "3.7.6"
  }
 },
 "nbformat": 4,
 "nbformat_minor": 4
}
